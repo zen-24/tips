{
 "cells": [
  {
   "cell_type": "code",
   "execution_count": 5,
   "metadata": {},
   "outputs": [
    {
     "name": "stdout",
     "output_type": "stream",
     "text": [
      "\n",
      "奨学金情報: 指定された条件に合致する奨学金情報がありません。\n",
      "予想される費用: 月額約280,000円〜300,000円\n",
      "住居に関するアドバイス: 学生寮やシェアハウスが一般的です。\n",
      "生活に関する詳細情報はこちらのリンクから: https://discord.gg/8hFuaqkP\n",
      "学外奨学金についてはこちらのリンクから: https://ryugaku.jasso.go.jp/scholarship.html\n"
     ]
    }
   ],
   "source": [
    "w = input(\"学部を選んで下さい(文学部、教育学部、法学部、経済学部、理学部、医学部、歯学部、薬学部、工学部、農学部、獣医学部、水産学部、総合教育部): \")\n",
    "x = input(\"留学の目的を選んで下さい(交換留学 or 語学留学): \")\n",
    "y = input(\"留学予定の国を教えて下さい(アメリカ、フランス、中国、オーストラリア、スイス): \")\n",
    "z = input(\"期間を選んで下さい(１ヶ月以内、半年、１年): \")\n",
    "s = input(\"奨学金の種類を選んで下さい(給付型 or 貸与型): \")\n",
    "a = input(\"併給の有無を選んで下さい(併給可能 or 併給不可): \")\n",
    "\n",
    "scholarships = {\n",
    "    \"文学部\": {\n",
    "        \"交換留学\": {\n",
    "            \"スイス\": {\n",
    "                \"半年\": {\n",
    "                    \"給付型\": {\n",
    "                        \"併給可能\": {\"info\": \"大林財団奨学金(JASSO等のみ併給可能)、北海道大学フロンティア基金新渡戸カレッジ(海外留学) 奨学金(原則)、北海道大学・ニトリ海外留学奨学金(原則)\", \"link\": \"https://discord.gg/8hFuaqkP\"},\n",
    "                        \"併給不可\": {\"info\": \"住友化学グローバルリーダー育成奨学金(条件あり)、JEES・石橋財団奨学金、北海道大学フロンティア基金クラーク海外留学助成奨学金\", \"link\": \"https://discord.gg/8hFuaqkP\"}\n",
    "                    },\n",
    "                    \"貸与型\": {\"info\": \"\", \"link\": \"https://discord.gg/8hFuaqkP\"}\n",
    "                },\n",
    "                \"１年\": {\n",
    "                    \"給付型\": {\n",
    "                        \"併給可能\": {\"info\": \"大林財団奨学金(JASSO等のみ併給可能)、北海道大学フロンティア基金新渡戸カレッジ(海外留学) 奨学金(原則)、北海道大学・ニトリ海外留学奨学金(原則)\", \"link\": \"https://discord.gg/8hFuaqkP\"},\n",
    "                        \"併給不可\": {\"info\": \"スイス政府奨学金、JEES・石橋財団奨学金、北海道大学フロンティア基金クラーク海外留学助成奨学金\", \"link\": \"https://discord.gg/8hFuaqkP\"}\n",
    "                    },\n",
    "                    \"貸与型\": {\"info\": \"a2文学部貸与\", \"link\": \"https://discord.gg/8hFuaqkP\"}\n",
    "                }\n",
    "            }\n",
    "        }\n",
    "    }\n",
    "}\n",
    "\n",
    "def get_scholarship_info(w, x, y, z, s, a):\n",
    "    try:\n",
    "        scholarship_info = scholarships[w][x][y][z][s][a]\n",
    "    except KeyError:\n",
    "        scholarship_info = {\"info\": \"指定された条件に合致する奨学金情報がありません。\", \"link\": \"https://discord.gg/8hFuaqkP\"}\n",
    "    \n",
    "    return scholarship_info['info'], scholarship_info['link']\n",
    "\n",
    "scholarship_info, scholarship_link = get_scholarship_info(w, x, y, z, s, a)\n",
    "\n",
    "def cost_and_accommodation(country, period):\n",
    "    if country == \"スイス\":\n",
    "        if period == \"1ヶ月以内\":\n",
    "            cost = \"月額約150,000円〜200,000円\"\n",
    "            accommodation = \"学生寮やシェアハウスが一般的です。\"\n",
    "        elif period == \"半年\":\n",
    "            cost = \"月額約280,000円〜300,000円\"\n",
    "            accommodation = \"学生寮やシェアハウスが一般的です。\"\n",
    "        elif period == \"１年\":\n",
    "            cost = \"月額約280,000円〜300,000円\"\n",
    "            accommodation = \"学生寮やシェアハウスが一般的です。\"\n",
    "    elif country == \"アメリカ\":\n",
    "        if period == \"1ヶ月以内\":\n",
    "            cost = \"月額約100,000円〜150,000円\"\n",
    "            accommodation = \"ホームステイや学生寮が一般的です。\"\n",
    "        elif period == \"半年\":\n",
    "            cost = \"月額約120,000円〜170,000円\"\n",
    "            accommodation = \"学生寮やシェアハウスが一般的です。\"\n",
    "        elif period == \"１年\":\n",
    "            cost = \"月額約110,000円〜160,000円\"\n",
    "            accommodation = \"学生寮やシェアハウスが一般的です。\"\n",
    "    return cost, accommodation\n",
    "\n",
    "cost, accommodation = cost_and_accommodation(y, z)\n",
    "\n",
    "print(\"\")\n",
    "print(f\"奨学金情報: {scholarship_info}\")\n",
    "print(f\"予想される費用: {cost}\")\n",
    "print(f\"住居に関するアドバイス: {accommodation}\")\n",
    "print(f\"生活に関する詳細情報はこちらのリンクから: {scholarship_link}\")\n",
    "print(\"学外奨学金についてはこちらのリンクから: https://ryugaku.jasso.go.jp/scholarship.html\")"
   ]
  }
 ],
 "metadata": {
  "kernelspec": {
   "display_name": "Python 3",
   "language": "python",
   "name": "python3"
  },
  "language_info": {
   "codemirror_mode": {
    "name": "ipython",
    "version": 3
   },
   "file_extension": ".py",
   "mimetype": "text/x-python",
   "name": "python",
   "nbconvert_exporter": "python",
   "pygments_lexer": "ipython3",
   "version": "3.11.3"
  }
 },
 "nbformat": 4,
 "nbformat_minor": 2
}
